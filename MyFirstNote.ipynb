{
    "cells": [
        {
            "cell_type": "code",
            "execution_count": 1,
            "metadata": {},
            "outputs": [
                {
                    "name": "stdout",
                    "output_type": "stream",
                    "text": "40\n"
                }
            ],
            "source": "print(5*8)"
        },
        {
            "cell_type": "markdown",
            "metadata": {},
            "source": "<h1>This is a title!</h1>"
        },
        {
            "cell_type": "markdown",
            "metadata": {},
            "source": " | header | header2 | header3 | \n | ----- | ------ | ------ | \n | R11 | R12 | R13|\n | R21 | R22 | R23|\n "
        },
        {
            "cell_type": "code",
            "execution_count": null,
            "metadata": {},
            "outputs": [],
            "source": ""
        }
    ],
    "metadata": {
        "kernelspec": {
            "display_name": "Python 3.9",
            "language": "python",
            "name": "python3"
        },
        "language_info": {
            "codemirror_mode": {
                "name": "ipython",
                "version": 3
            },
            "file_extension": ".py",
            "mimetype": "text/x-python",
            "name": "python",
            "nbconvert_exporter": "python",
            "pygments_lexer": "ipython3",
            "version": "3.9.7"
        }
    },
    "nbformat": 4,
    "nbformat_minor": 1
}